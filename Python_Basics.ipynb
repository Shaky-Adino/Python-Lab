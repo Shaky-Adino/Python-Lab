{
  "nbformat": 4,
  "nbformat_minor": 0,
  "metadata": {
    "colab": {
      "name": "Python Basics.ipynb",
      "provenance": [],
      "collapsed_sections": []
    },
    "kernelspec": {
      "name": "python3",
      "display_name": "Python 3"
    },
    "language_info": {
      "name": "python"
    }
  },
  "cells": [
    {
      "cell_type": "markdown",
      "metadata": {
        "id": "aySiaGb5K_IP"
      },
      "source": [
        "<html>\n",
        "<body>\n",
        "\n",
        "<h2>Topic: Python Basics</h2>\n",
        "<hr><hr>\n",
        "<h3>USN: 1MS19CS063 </h3>\n",
        "<h3>NAME: M Shashanka</h3>\n",
        "<hr><hr>\n",
        "</body>\n",
        "</html>\n"
      ]
    },
    {
      "cell_type": "markdown",
      "metadata": {
        "id": "udI7eoIVNwyi"
      },
      "source": [
        "<html>\n",
        "<body>\n",
        "\n",
        "<h1><b>Questions</b></h1>\n",
        "\n",
        "<ol type=\"i\">\n",
        "<li>Write a Python program that allows the user to enter two integer values,and displays the results when each of the following arithmetic operators are applied.For example, if user enters the values 7 and 5, the output would be,<br/>\n",
        "7+ 5 = 12 <br />\n",
        "7 - 5 = 2 <br />\n",
        "7* 5 = 35 <br />\n",
        "7 / 5 = 1.40 <br />\n",
        "7// 5 = 1 <br />\n",
        "7 % 5 = 2 <br />\n",
        "7** 5 = 16,807 <br />\n",
        "</li>\n",
        "<li>Write a Python program that allows the user to enter any integer value, and displays the value of 2 raised to that power. Your program should function as given. <br />\n",
        "<b>Input:</b> What power of two? 10 <br />\n",
        "<b>Output:</b> Two to the power of 10 is 1024 \n",
        "</li>\n",
        "<li>Write a Python program that allows the user to enter any integer base and integer exponent, and displays the value of the base raised to that exponent. Your program should function as shown below.<br/>\n",
        "<b>Input:</b> What base? 10<br/>\n",
        "&nbsp &nbsp &nbsp &nbsp &nbsp &nbsp What power of 10? 4<br/>\n",
        "<b>Output:</b>10 to the power of 4 is 10000\n",
        "</li>\n",
        "<li>\n",
        "Write a python program that asks the user how many coins of various types they have, and then prints the total amount of money in rupees.\n",
        "</li>\n",
        "</ol>\n",
        "<hr><hr>\n",
        "</body>\n",
        "</html>"
      ]
    },
    {
      "cell_type": "markdown",
      "metadata": {
        "id": "Bh0LYhCBOXvZ"
      },
      "source": [
        "## **Programs**\n"
      ]
    },
    {
      "cell_type": "markdown",
      "metadata": {
        "id": "_LNbGFn9tsCo"
      },
      "source": [
        "<html>\n",
        "<body>\n",
        "<h4> <b>Program (i)</b> </h4>\n",
        "</body>\n",
        "</html>"
      ]
    },
    {
      "cell_type": "code",
      "metadata": {
        "id": "Y17gHoDnOaCg",
        "colab": {
          "base_uri": "https://localhost:8080/",
          "height": 0
        },
        "outputId": "cf730d14-717e-48c6-9199-7281564950a3"
      },
      "source": [
        "a = int(input('Enter the first number : '))\n",
        "b = int(input('Enter the second number : '))\n",
        "print(a,'+',b,'=',a+b)\n",
        "print(a,'-',b,'=',a-b)\n",
        "print(a,'*',b,'=',a*b)\n",
        "print(a,'/',b,'=',a/b)\n",
        "print(a,'//',b,'=',a//b)\n",
        "print(a,'%',b,'=',a%b)\n",
        "print(a,'**',b,'=',a**b)"
      ],
      "execution_count": 3,
      "outputs": [
        {
          "output_type": "stream",
          "text": [
            "Enter the first number : 7\n",
            "Enter the second number : 5\n",
            "7 + 5 = 12\n",
            "7 - 5 = 2\n",
            "7 * 5 = 35\n",
            "7 / 5 = 1.4\n",
            "7 // 5 = 1\n",
            "7 % 5 = 2\n",
            "7 ** 5 = 16807\n"
          ],
          "name": "stdout"
        }
      ]
    },
    {
      "cell_type": "markdown",
      "metadata": {
        "id": "-2yNvQucuTTE"
      },
      "source": [
        "<html>\n",
        "<body>\n",
        "<h4> <b>Program (ii)</b> </h4>\n",
        "</body>\n",
        "</html>"
      ]
    },
    {
      "cell_type": "code",
      "metadata": {
        "colab": {
          "base_uri": "https://localhost:8080/",
          "height": 0
        },
        "id": "YW0NLuToktM1",
        "outputId": "57545f93-b123-4d7c-ec27-e5561d6ce18e"
      },
      "source": [
        "x = int(input('What power of two ? '))\n",
        "print('Two to the power of',x,'is',2**x)"
      ],
      "execution_count": 4,
      "outputs": [
        {
          "output_type": "stream",
          "text": [
            "What power of two ? 10\n",
            "Two to the power of 10 is 1024\n"
          ],
          "name": "stdout"
        }
      ]
    },
    {
      "cell_type": "markdown",
      "metadata": {
        "id": "1K99PBV9ul4d"
      },
      "source": [
        "<html>\n",
        "<body>\n",
        "<h4> <b>Program (iii)</b> </h4>\n",
        "</body>\n",
        "</html>"
      ]
    },
    {
      "cell_type": "code",
      "metadata": {
        "colab": {
          "base_uri": "https://localhost:8080/",
          "height": 0
        },
        "id": "PEfVGrMyunqu",
        "outputId": "0e663d00-e570-41ff-e22c-9d92b8981ca0"
      },
      "source": [
        "a = int(input('What base ? '))\n",
        "print('What Power of',a,'? ')\n",
        "b = int(input())\n",
        "print(a,'to the power of',b,'is',a**b)"
      ],
      "execution_count": 5,
      "outputs": [
        {
          "output_type": "stream",
          "text": [
            "What base ? 10\n",
            "What Power of 10 ? \n",
            "4\n",
            "10 to the power of 4 is 10000\n"
          ],
          "name": "stdout"
        }
      ]
    },
    {
      "cell_type": "markdown",
      "metadata": {
        "id": "BW-mBbSwznY0"
      },
      "source": [
        "<html>\n",
        "<body>\n",
        "<h4> <b>Program (iv)</b> </h4>\n",
        "</body>\n",
        "</html>"
      ]
    },
    {
      "cell_type": "code",
      "metadata": {
        "colab": {
          "base_uri": "https://localhost:8080/",
          "height": 0
        },
        "id": "7d1X6ysmzq-8",
        "outputId": "dcb367af-cf97-44eb-ae8e-168d8cb9795f"
      },
      "source": [
        "a = int(input('Enter the number of one rupee coins: '))\n",
        "b = int(input('Enter the number of two rupees coins: '))\n",
        "c = int(input('Enter the number of five rupees coins: '))\n",
        "print('Total amount = ',a + b*2 + c*5,'rupees')"
      ],
      "execution_count": 6,
      "outputs": [
        {
          "output_type": "stream",
          "text": [
            "Enter the number of one rupee coins: 3\n",
            "Enter the number of two rupees coins: 2\n",
            "Enter the number of five rupees coins: 1\n",
            "Total amount =  12 rupees\n"
          ],
          "name": "stdout"
        }
      ]
    }
  ]
}