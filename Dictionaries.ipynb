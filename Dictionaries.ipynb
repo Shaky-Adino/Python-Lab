{
  "nbformat": 4,
  "nbformat_minor": 0,
  "metadata": {
    "colab": {
      "name": "Dictionaries.ipynb",
      "provenance": [],
      "collapsed_sections": []
    },
    "kernelspec": {
      "name": "python3",
      "display_name": "Python 3"
    },
    "language_info": {
      "name": "python"
    }
  },
  "cells": [
    {
      "cell_type": "markdown",
      "metadata": {
        "id": "aySiaGb5K_IP"
      },
      "source": [
        "<html>\n",
        "<body>\n",
        "\n",
        "<h2>Topic: Dictionaries</h2>\n",
        "<hr><hr>\n",
        "<h3>USN: 1MS19CS063 </h3>\n",
        "<h3>NAME: M Shashanka</h3>\n",
        "<hr><hr>\n",
        "</body>\n",
        "</html>\n"
      ]
    },
    {
      "cell_type": "markdown",
      "metadata": {
        "id": "udI7eoIVNwyi"
      },
      "source": [
        "<html>\n",
        "<body>\n",
        "\n",
        "<h1><b>Questions</b></h1>\n",
        "\n",
        "<ol type=\"i\">\n",
        "  <li>Create a python dictionary for words and their\n",
        "meanings. Write functions to add a new entry\n",
        "(word:meaning) ,search for a particular word and\n",
        "retrieve meaning, given meaning find words with\n",
        "same meaning , remove an entry, display all words\n",
        "sorted alphabetically. [Program must be menu\n",
        "driven]\n",
        "</li>\n",
        "  <li>Write a Python script to concatenate following\n",
        "dictionaries to create a new one. <br />\n",
        "<b>Sample Dictionary:</b> \n",
        "dic1={1:10, 2:20} &nbsp dic2={3:30, 4:40} &nbspdic3={5:50,6:60} <br />\n",
        "<b>Expected Result :</b> {1: 10, 2: 20,\n",
        "3: 30, 4: 40, 5: 50, 6: 60}\n",
        "</li>\n",
        "  <li>Write the function nearestBusStop(street) that\n",
        "takes a non-negative int street number, and returns\n",
        "the nearest bus stop to the given street, where buses\n",
        "stop every 8th street, including street 0, and ties go\n",
        "to the lower street, so the nearest bus stop to 12th\n",
        "street is 8th street, and the nearest bus stop to 13\n",
        "street is 16th street. The function returns an integer,\n",
        "so for example, nearestBusStop(5) returns 8.\n",
        "</li>\n",
        "</ol>\n",
        "<hr><hr>\n",
        "</body>\n",
        "</html>"
      ]
    },
    {
      "cell_type": "markdown",
      "metadata": {
        "id": "Bh0LYhCBOXvZ"
      },
      "source": [
        "## **Programs**\n"
      ]
    },
    {
      "cell_type": "markdown",
      "metadata": {
        "id": "8qKo-31l8PhQ"
      },
      "source": [
        "<html>\n",
        "<body>\n",
        "<h4> <b>Program (i)</b> </h4>\n",
        "</body>\n",
        "</html>"
      ]
    },
    {
      "cell_type": "code",
      "metadata": {
        "id": "A0yMbiNd_Vmf",
        "colab": {
          "base_uri": "https://localhost:8080/",
          "height": 1377
        },
        "outputId": "d5ea0ac9-d71a-4659-f827-9a815b07254e"
      },
      "source": [
        "def print_menu():\n",
        "    print('1. Add new entry')\n",
        "    print('2. Search for a word')\n",
        "    print('3. Find words with same meaning')\n",
        "    print('4. Remove an entry')\n",
        "    print('5. Print dictionary')\n",
        "    print('6. Quit')\n",
        "    print()\n",
        "\n",
        "\n",
        "words = {}\n",
        "\n",
        "\n",
        "\n",
        "def add_word():\n",
        "  name = input(\"Word: \")\n",
        "  means = input(\"Definition: \")\n",
        "  words[name] = means\n",
        "\n",
        "def search_word():\n",
        "  name = input(\"Word: \")\n",
        "  if name in words:\n",
        "    print(\"The definition of\", name, \"is : \", words[name])\n",
        "  else:\n",
        "    print(\"No definition for \", name, \" was found.\")\n",
        "\n",
        "def same_meaning():\n",
        "  meaning = input('Meaning : ')\n",
        "  item_list = words.items()\n",
        "  result = set()\n",
        "  for item in item_list:\n",
        "    if item[1] == meaning:\n",
        "      result.add(item[0])\n",
        "  for i in result:\n",
        "    print(i)\n",
        "\n",
        "def remove_word():\n",
        "  name = input(\"Word: \")\n",
        "  if name in words:\n",
        "    del words[name]\n",
        "    print(name, \"was removed.\")\n",
        "  else:\n",
        "    print(name, \"was not found.\")\n",
        "\n",
        "def print_dict():\n",
        "  for i in sorted (words.keys()) :\n",
        "     print(i,':',words[i])\n",
        "  print()\n",
        "\n",
        "\n",
        "choice = 0\n",
        "\n",
        "\n",
        "while choice != 6:\n",
        "  print_menu()\n",
        "  choice = int(input())\n",
        "  if choice == 1:\n",
        "    add_word()\n",
        "  elif choice == 2:\n",
        "    search_word()\n",
        "  elif choice == 3:\n",
        "    same_meaning()\n",
        "  elif choice == 4:\n",
        "    remove_word()\n",
        "  elif choice == 5:\n",
        "    print_dict()\n",
        "  else:\n",
        "    break"
      ],
      "execution_count": 13,
      "outputs": [
        {
          "output_type": "display_data",
          "data": {
            "application/javascript": [
              "google.colab.output.setIframeHeight(0, true, {maxHeight: 5000})"
            ],
            "text/plain": [
              "<IPython.core.display.Javascript object>"
            ]
          },
          "metadata": {
            "tags": []
          }
        },
        {
          "output_type": "display_data",
          "data": {
            "application/javascript": [
              "google.colab.output.setIframeHeight(0, true, {maxHeight: 7000})"
            ],
            "text/plain": [
              "<IPython.core.display.Javascript object>"
            ]
          },
          "metadata": {
            "tags": []
          }
        },
        {
          "output_type": "display_data",
          "data": {
            "application/javascript": [
              "google.colab.output.setIframeHeight(0, true, {maxHeight: 15000})"
            ],
            "text/plain": [
              "<IPython.core.display.Javascript object>"
            ]
          },
          "metadata": {
            "tags": []
          }
        },
        {
          "output_type": "stream",
          "text": [
            "1. Add new entry\n",
            "2. Search for a word\n",
            "3. Find words with same meaning\n",
            "4. Remove an entry\n",
            "5. Print dictionary\n",
            "6. Quit\n",
            "\n",
            "1\n",
            "Word: peculiar\n",
            "Definition: different to what is normal or expected\n",
            "1. Add new entry\n",
            "2. Search for a word\n",
            "3. Find words with same meaning\n",
            "4. Remove an entry\n",
            "5. Print dictionary\n",
            "6. Quit\n",
            "\n",
            "1\n",
            "Word: strange\n",
            "Definition: different to what is normal or expected\n",
            "1. Add new entry\n",
            "2. Search for a word\n",
            "3. Find words with same meaning\n",
            "4. Remove an entry\n",
            "5. Print dictionary\n",
            "6. Quit\n",
            "\n",
            "1\n",
            "Word: task\n",
            "Definition: a piece of work to be done or undertaken\n",
            "1. Add new entry\n",
            "2. Search for a word\n",
            "3. Find words with same meaning\n",
            "4. Remove an entry\n",
            "5. Print dictionary\n",
            "6. Quit\n",
            "\n",
            "2\n",
            "Word: peculiar\n",
            "The definition of peculiar is :  different to what is normal or expected\n",
            "1. Add new entry\n",
            "2. Search for a word\n",
            "3. Find words with same meaning\n",
            "4. Remove an entry\n",
            "5. Print dictionary\n",
            "6. Quit\n",
            "\n",
            "3\n",
            "Meaning : different to what is normal or expected\n",
            "strange\n",
            "peculiar\n",
            "1. Add new entry\n",
            "2. Search for a word\n",
            "3. Find words with same meaning\n",
            "4. Remove an entry\n",
            "5. Print dictionary\n",
            "6. Quit\n",
            "\n",
            "4\n",
            "Word: strange\n",
            "strange was removed.\n",
            "1. Add new entry\n",
            "2. Search for a word\n",
            "3. Find words with same meaning\n",
            "4. Remove an entry\n",
            "5. Print dictionary\n",
            "6. Quit\n",
            "\n",
            "5\n",
            "peculiar : different to what is normal or expected\n",
            "task : a piece of work to be done or undertaken\n",
            "\n",
            "1. Add new entry\n",
            "2. Search for a word\n",
            "3. Find words with same meaning\n",
            "4. Remove an entry\n",
            "5. Print dictionary\n",
            "6. Quit\n",
            "\n",
            "6\n"
          ],
          "name": "stdout"
        }
      ]
    },
    {
      "cell_type": "markdown",
      "metadata": {
        "id": "7mvOi6vMBITv"
      },
      "source": [
        "<html>\n",
        "<body>\n",
        "<h4> <b>Program (ii)</b> </h4>\n",
        "</body>\n",
        "</html>"
      ]
    },
    {
      "cell_type": "code",
      "metadata": {
        "colab": {
          "base_uri": "https://localhost:8080/",
          "height": 34
        },
        "id": "JzvEciSSBO8H",
        "outputId": "1c01a94e-0720-44ae-ca0a-93878aefffe1"
      },
      "source": [
        "dic1={1:10, 2:20}\n",
        "dic2={3:30, 4:40}\n",
        "dic3={5:50, 6:60}\n",
        "dic = {}\n",
        "dic.update(dic1)\n",
        "dic.update(dic2)\n",
        "dic.update(dic3)\n",
        "print(dic)"
      ],
      "execution_count": 14,
      "outputs": [
        {
          "output_type": "display_data",
          "data": {
            "application/javascript": [
              "google.colab.output.setIframeHeight(0, true, {maxHeight: 5000})"
            ],
            "text/plain": [
              "<IPython.core.display.Javascript object>"
            ]
          },
          "metadata": {
            "tags": []
          }
        },
        {
          "output_type": "display_data",
          "data": {
            "application/javascript": [
              "google.colab.output.setIframeHeight(0, true, {maxHeight: 7000})"
            ],
            "text/plain": [
              "<IPython.core.display.Javascript object>"
            ]
          },
          "metadata": {
            "tags": []
          }
        },
        {
          "output_type": "display_data",
          "data": {
            "application/javascript": [
              "google.colab.output.setIframeHeight(0, true, {maxHeight: 15000})"
            ],
            "text/plain": [
              "<IPython.core.display.Javascript object>"
            ]
          },
          "metadata": {
            "tags": []
          }
        },
        {
          "output_type": "stream",
          "text": [
            "{1: 10, 2: 20, 3: 30, 4: 40, 5: 50, 6: 60}\n"
          ],
          "name": "stdout"
        }
      ]
    },
    {
      "cell_type": "markdown",
      "metadata": {
        "id": "LLQjg6qqBp6v"
      },
      "source": [
        "<html>\n",
        "<body>\n",
        "<h4> <b>Program (iii)</b> </h4>\n",
        "</body>\n",
        "</html>"
      ]
    },
    {
      "cell_type": "code",
      "metadata": {
        "colab": {
          "base_uri": "https://localhost:8080/",
          "height": 51
        },
        "id": "0FEY_vyzBtF3",
        "outputId": "93296b9b-3409-4533-9f53-3de4f9cbc552"
      },
      "source": [
        "def nearestBusStop(street):\n",
        "  left = (street//8)*8\n",
        "  right = (street//8 + 1)*8\n",
        "  if (street - left) <= (right - street):\n",
        "    return left\n",
        "  else:\n",
        "    return right\n",
        "print(nearestBusStop(12))\n",
        "print(nearestBusStop(13))"
      ],
      "execution_count": 15,
      "outputs": [
        {
          "output_type": "display_data",
          "data": {
            "application/javascript": [
              "google.colab.output.setIframeHeight(0, true, {maxHeight: 5000})"
            ],
            "text/plain": [
              "<IPython.core.display.Javascript object>"
            ]
          },
          "metadata": {
            "tags": []
          }
        },
        {
          "output_type": "display_data",
          "data": {
            "application/javascript": [
              "google.colab.output.setIframeHeight(0, true, {maxHeight: 7000})"
            ],
            "text/plain": [
              "<IPython.core.display.Javascript object>"
            ]
          },
          "metadata": {
            "tags": []
          }
        },
        {
          "output_type": "display_data",
          "data": {
            "application/javascript": [
              "google.colab.output.setIframeHeight(0, true, {maxHeight: 15000})"
            ],
            "text/plain": [
              "<IPython.core.display.Javascript object>"
            ]
          },
          "metadata": {
            "tags": []
          }
        },
        {
          "output_type": "stream",
          "text": [
            "8\n",
            "16\n"
          ],
          "name": "stdout"
        }
      ]
    }
  ]
}