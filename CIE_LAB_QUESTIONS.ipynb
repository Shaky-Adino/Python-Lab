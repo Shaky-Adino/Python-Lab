{
  "nbformat": 4,
  "nbformat_minor": 0,
  "metadata": {
    "colab": {
      "name": "CIE LAB QUESTIONS.ipynb",
      "provenance": []
    },
    "kernelspec": {
      "name": "python3",
      "display_name": "Python 3"
    },
    "language_info": {
      "name": "python"
    }
  },
  "cells": [
    {
      "cell_type": "markdown",
      "metadata": {
        "id": "iSzGf9_mjoJ2"
      },
      "source": [
        "<html>\n",
        "<body>\n",
        "<h1> <b>CIE LAB QUESTIONS</b></h1>\n",
        "</body>\n",
        "</html>"
      ]
    },
    {
      "cell_type": "markdown",
      "metadata": {
        "id": "59Y7dlYWi4Hn"
      },
      "source": [
        "<html>\n",
        "<body>\n",
        "<h3>1. Write a python function geometric () that takes a list of integers as input and returns True if the integers\n",
        "in the list form a geometric sequence. A sequence a0, a1, a2, a3, a4, . . . , an is a geometric sequence if\n",
        "the ratios a1/a0, a2/a1, a3/a2, a4/a3, . . . , an/an-1 are all equal.<br/>\n",
        ">>> geometric([2, 4, 8, 16, 32, 64, 128, 256])<br/>\n",
        "True <br />\n",
        ">>> geometric([2, 4, 6, 8]) <br />\n",
        "False</h3>\n",
        "</body>\n",
        "</html>"
      ]
    },
    {
      "cell_type": "code",
      "metadata": {
        "colab": {
          "base_uri": "https://localhost:8080/",
          "height": 0
        },
        "id": "J7biaX8wjhld",
        "outputId": "b7f8c4e9-6963-4514-b0c2-209305f243c4"
      },
      "source": [
        "def geometric(a):\n",
        "  for i in range(len(a) - 2):\n",
        "    if (a[i] * a[i + 2]) != (a[i + 1] ** 2):\n",
        "      return False\n",
        "  return True\n",
        "\n",
        "print(geometric([2, 4, 8, 16, 32, 64, 128, 256]))\n",
        "print(geometric([2, 4, 6, 8]))\n"
      ],
      "execution_count": 1,
      "outputs": [
        {
          "output_type": "stream",
          "text": [
            "True\n",
            "False\n"
          ],
          "name": "stdout"
        }
      ]
    },
    {
      "cell_type": "markdown",
      "metadata": {
        "id": "MdCWlRn3kwE1"
      },
      "source": [
        "<html>\n",
        "<body>\n",
        "<h3>2. Write a python program to create list1 and list2, be two lists of integers. We say that list1 is a sublist of\n",
        "list2 if the elements in list1 appear in list2 in the same order as they appear in list1, but not necessarily\n",
        "consecutively.<br/>\n",
        ">>> sublist([15, 1, 100], [20, 15, 30, 50, 1, 100])<br/>\n",
        "True <br />\n",
        ">>> sublist([15, 50, 20], [20, 15, 30, 50, 1, 100]) <br />\n",
        "False</h3>\n",
        "</body>\n",
        "</html>"
      ]
    },
    {
      "cell_type": "code",
      "metadata": {
        "colab": {
          "base_uri": "https://localhost:8080/",
          "height": 0
        },
        "id": "-xWJu4NFlEGk",
        "outputId": "26c06963-bd33-4fed-9ab2-95cfa034c7be"
      },
      "source": [
        "def sublist(list1, list2):\n",
        "  j = 0\n",
        "  for i in range(len(list2)):\n",
        "    if list1[j] == list2[i] :\n",
        "      j += 1\n",
        "  return True if j == len(list1) else False\n",
        "  \n",
        "print(sublist([15, 1, 100], [20, 15, 30, 50, 1, 100]))\n",
        "print(sublist([15, 50, 20], [20, 15, 30, 50, 1, 100]))"
      ],
      "execution_count": 2,
      "outputs": [
        {
          "output_type": "stream",
          "text": [
            "True\n",
            "False\n"
          ],
          "name": "stdout"
        }
      ]
    },
    {
      "cell_type": "markdown",
      "metadata": {
        "id": "knq-J01zlTD1"
      },
      "source": [
        "<html>\n",
        "<body>\n",
        "<h3>3. Write a python program to demonstrate, a list rotation consists of taking the last element and moving it\n",
        "to the front. For instance, if we rotate the list [1,2,3,4,5], we get [5,1,2,3,4]. If we rotate it again, we get\n",
        "[4,5,1,2,3].Write a Python function rotatelist(ls,k) that takes a list ls and a positive integer k and returns\n",
        "the list ls after k rotations. If k is not positive, your function should return ls unchanged. Note that your\n",
        "function should not change ls itself, and should return the rotated list.Here are some examples to show\n",
        "how your function should work.<br/>\n",
        ">>> rotatelist([1,2,3,4,5],1) <br />#output is [5, 1, 2, 3, 4]<br/>\n",
        ">>> rotatelist([1,2,3,4,5],3) <br />#output is [3, 4, 5, 1, 2]<br />\n",
        ">>> rotatelist([1,2,3,4,5],12) <br />#output is [4, 5, 1, 2, 3]<br />\n",
        "</h3>\n",
        "</body>\n",
        "</html>"
      ]
    },
    {
      "cell_type": "code",
      "metadata": {
        "colab": {
          "base_uri": "https://localhost:8080/",
          "height": 0
        },
        "id": "rTlXkawSl2UN",
        "outputId": "9947e06c-d30e-4468-da4e-573e94c5daa1"
      },
      "source": [
        "def rotatelist(ls,k):\n",
        "  if k <= 0 :\n",
        "    return ls\n",
        "  k %= len(ls)\n",
        "  new_list = (ls[-k : ] + ls[ : -k])\n",
        "  return new_list\n",
        "  \n",
        "print(rotatelist([1, 2, 3, 4, 5], 1))\n",
        "print(rotatelist([1, 2, 3, 4, 5], 3))\n",
        "print(rotatelist([1, 2, 3, 4, 5], 12))"
      ],
      "execution_count": 3,
      "outputs": [
        {
          "output_type": "stream",
          "text": [
            "[5, 1, 2, 3, 4]\n",
            "[3, 4, 5, 1, 2]\n",
            "[4, 5, 1, 2, 3]\n"
          ],
          "name": "stdout"
        }
      ]
    },
    {
      "cell_type": "markdown",
      "metadata": {
        "id": "xEasIz1QmB_d"
      },
      "source": [
        "<html>\n",
        "<body>\n",
        "<h3>4. Write a python function exclamation() that takes input as a string and returns it with this modification:\n",
        "Every vowel is replaced by four consecutive copies of itself and an exclamation mark (!) is added at the\n",
        "end.<br/>\n",
        ">>> exclamation('argh') <br />\n",
        "'aaaargh!'<br/>\n",
        ">>> exclamation('hello')<br />\n",
        "'heeeelloooo!'<br />\n",
        "</h3>\n",
        "</body>\n",
        "</html>"
      ]
    },
    {
      "cell_type": "code",
      "metadata": {
        "colab": {
          "base_uri": "https://localhost:8080/",
          "height": 0
        },
        "id": "v4s5RHA5meY1",
        "outputId": "ba61a4d1-07a7-4480-bbca-da865b9e25cf"
      },
      "source": [
        "def exclamation(string):\n",
        "  for i in 'aeiouAEIOU':\n",
        "      string = string.replace(i,i*4)\n",
        "  return string + '!'\n",
        "\n",
        "print(exclamation('argh'))\n",
        "print(exclamation('hello'))"
      ],
      "execution_count": 4,
      "outputs": [
        {
          "output_type": "stream",
          "text": [
            "aaaargh!\n",
            "heeeelloooo!\n"
          ],
          "name": "stdout"
        }
      ]
    },
    {
      "cell_type": "markdown",
      "metadata": {
        "id": "EfwBDhRim8BM"
      },
      "source": [
        "<html>\n",
        "<body>\n",
        "<h3>5. Write a python class to represent city which contains a list of places to see. Provide methods to create\n",
        "the object with just the city name or with city name and places (stored as list) Provide methods to add a\n",
        "place of visit, to remove place of visit, to display all places of visit.</h3>\n",
        "</body>\n",
        "</html>"
      ]
    },
    {
      "cell_type": "code",
      "metadata": {
        "colab": {
          "base_uri": "https://localhost:8080/",
          "height": 0
        },
        "id": "eQ4Lx8DUnRd2",
        "outputId": "29680a12-6606-4c00-b737-5bd41f2c6e6e"
      },
      "source": [
        "class City:\n",
        "  def __init__(self,name,places=[]):\n",
        "    self.name,self.places = name,places\n",
        "  def add(self,place):\n",
        "    if place not in self.places:\n",
        "      self.places.append(place)\n",
        "  def remove(self,place):\n",
        "    if place in self.places:\n",
        "      self.places.remove(place)\n",
        "  def display(self):\n",
        "    print(', '.join(self.places))\n",
        "\n",
        "blr = City('Bangalore')\n",
        "blr.add('place-1')\n",
        "blr.add('place-2')\n",
        "blr.display()\n",
        "\n",
        "goa = City('Goa',['place-3','place-4','place-5'])\n",
        "goa.display()\n",
        "goa.remove('place-4')\n",
        "goa.display()"
      ],
      "execution_count": 6,
      "outputs": [
        {
          "output_type": "stream",
          "text": [
            "place-1, place-2\n",
            "place-3, place-4, place-5\n",
            "place-3, place-5\n"
          ],
          "name": "stdout"
        }
      ]
    },
    {
      "cell_type": "markdown",
      "metadata": {
        "id": "S0hS3iTQn30j"
      },
      "source": [
        "<html>\n",
        "<body>\n",
        "<h3>6. Given a list of tuples, extract all tuples having K digit elements.<br />\n",
        "Input : test_list = [(54, 2), (34, 55), (222, 23), (12, 45), (78, )],&nbsp K = 2 <br />\n",
        "Output : [(34, 55), (12, 45), (78,)]<br />\n",
        "&nbsp<br/>\n",
        "</h3>\n",
        "</body>\n",
        "</html>"
      ]
    },
    {
      "cell_type": "code",
      "metadata": {
        "colab": {
          "base_uri": "https://localhost:8080/",
          "height": 0
        },
        "id": "YyeDX5gioKGc",
        "outputId": "6e8a9d5e-b564-4671-82d7-519c9b31c89b"
      },
      "source": [
        "\n",
        "test_list = [(54, 2), (34, 55), (222, 23), (12, 45), (78, )]\n",
        "K = 2\n",
        "res = [i for i in test_list if all(len(str(ele)) == K for ele in i)]\n",
        "print(res)"
      ],
      "execution_count": 7,
      "outputs": [
        {
          "output_type": "stream",
          "text": [
            "[(34, 55), (12, 45), (78,)]\n"
          ],
          "name": "stdout"
        }
      ]
    },
    {
      "cell_type": "markdown",
      "metadata": {
        "id": "rLg2TvvSoWeT"
      },
      "source": [
        "<html>\n",
        "<body>\n",
        "<h3>7. While working with Python data, we can have a problem in which we have data in form of nested and\n",
        "non-nested form inside in a single tuple, and we wish to count the element frequency in them. This\n",
        "kind of problem can come in domains such as web development and Data Science.<br />\n",
        "Input : test_tuple = (5, (6, (7, 8, 6))) <br />\n",
        "Output : {5: 1, 6: 2, 7: 1, 8: 1} <br />\n",
        "Input : test_tuple = (5, 6, 7, 8) <br />\n",
        "Output : {5: 1, 6: 1, 7: 1, 8: 1}\n",
        "</h3>\n",
        "</body>\n",
        "</html>"
      ]
    },
    {
      "cell_type": "code",
      "metadata": {
        "colab": {
          "base_uri": "https://localhost:8080/",
          "height": 0
        },
        "id": "qj3RBpaUotGv",
        "outputId": "4300fa38-cb71-4953-9e60-f32bf5d03fe8"
      },
      "source": [
        "def flatten(test_tuple):\n",
        "  for tup in test_tuple:\n",
        "    if isinstance(tup, tuple):\n",
        "      yield from flatten(tup)\n",
        "    else:\n",
        "      yield tup\n",
        "\n",
        "test_tuple = (5, (6, (7, 8, 6)))\n",
        "res = {}\n",
        "\n",
        "for ele in flatten(test_tuple):\n",
        "  if ele in res:\n",
        "    res[ele] += 1\n",
        "  else:\n",
        "    res[ele] = 1\n",
        "\n",
        "print(res)"
      ],
      "execution_count": 9,
      "outputs": [
        {
          "output_type": "stream",
          "text": [
            "{5: 1, 6: 2, 7: 1, 8: 1}\n"
          ],
          "name": "stdout"
        }
      ]
    },
    {
      "cell_type": "markdown",
      "metadata": {
        "id": "B0QOQvfkpDa9"
      },
      "source": [
        "<html>\n",
        "<body>\n",
        "<h3>8. Write a Python script to concatenate following dictionaries to create a new one. <br />\n",
        "Sample Dictionary : dic1={1:10, 2:20} &nbsp dic2={3:30, 4:40} &nbsp dic3={5:50,6:60} <br />\n",
        "Expected Result : {1: 10, 2: 20, 3: 30, 4: 40, 5: 50, 6: 60}\n",
        "</h3>\n",
        "</body>\n",
        "</html>"
      ]
    },
    {
      "cell_type": "code",
      "metadata": {
        "colab": {
          "base_uri": "https://localhost:8080/",
          "height": 0
        },
        "id": "b6reuDZMpQWz",
        "outputId": "189605d2-4d87-4141-d099-690efbd54042"
      },
      "source": [
        "dic1={1:10, 2:20}\n",
        "dic2={3:30, 4:40}\n",
        "dic3={5:50, 6:60}\n",
        "dic = {}\n",
        "dic.update(dic1)\n",
        "dic.update(dic2)\n",
        "dic.update(dic3)\n",
        "print(dic)"
      ],
      "execution_count": 10,
      "outputs": [
        {
          "output_type": "stream",
          "text": [
            "{1: 10, 2: 20, 3: 30, 4: 40, 5: 50, 6: 60}\n"
          ],
          "name": "stdout"
        }
      ]
    },
    {
      "cell_type": "markdown",
      "metadata": {
        "id": "C4mAVj8oqh-j"
      },
      "source": [
        "\n",
        "\n",
        "---\n",
        "\n"
      ]
    }
  ]
}