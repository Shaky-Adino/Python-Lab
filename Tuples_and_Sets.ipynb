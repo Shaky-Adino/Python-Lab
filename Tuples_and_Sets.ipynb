{
  "nbformat": 4,
  "nbformat_minor": 0,
  "metadata": {
    "colab": {
      "name": "Tuples and Sets.ipynb",
      "provenance": [],
      "collapsed_sections": []
    },
    "kernelspec": {
      "name": "python3",
      "display_name": "Python 3"
    },
    "language_info": {
      "name": "python"
    }
  },
  "cells": [
    {
      "cell_type": "markdown",
      "metadata": {
        "id": "aySiaGb5K_IP"
      },
      "source": [
        "<html>\n",
        "<body>\n",
        "\n",
        "<h2>Topic: Tuples and Sets</h2>\n",
        "<hr><hr>\n",
        "<h3>USN: 1MS19CS063 </h3>\n",
        "<h3>NAME: M Shashanka</h3>\n",
        "<hr><hr>\n",
        "</body>\n",
        "</html>\n"
      ]
    },
    {
      "cell_type": "markdown",
      "metadata": {
        "id": "udI7eoIVNwyi"
      },
      "source": [
        "<html>\n",
        "<body>\n",
        "\n",
        "<h1><b>Questions</b></h1>\n",
        "\n",
        "<ol type=\"i\">\n",
        "  <li>Given a list of tuples, extract all tuples having K\n",
        "digit elements. <br />\n",
        "<b>Input :</b> test_list = [(54, 2), (34, 55), (222, 23), (12, 45), (78, )], K = 2 \n",
        "<br/>\n",
        "<b>Output :</b> [(34, 55), (12, 45), (78,)] <br />\n",
        "<b>Explanation :</b> All tuples have numbers with 2 digits. <br />\n",
        "<b>Input :</b> test_list = [(54, 2), (34, 55), (222, 23), (12, 45), (782, )], K = 3 <br />\n",
        "<b>Output :</b> [(782,)] <br />\n",
        "<b>Explanation :</b> All tuples have numbers with 3 digits.\n",
        "</li>\n",
        "  <li>While working with Python data, we can have a problem in which we have data in form of nested and non-nested form inside in a single tuple, and\n",
        "we wish to count the element frequency in them. This kind of problem can come in domains such as web development and Data Science. <br />\n",
        "<b>Input :</b> test_tuple = (5, (6, (7, 8, 6))) <br />\n",
        "<b>Output :</b> {5: 1, 6: 2, 7: 1, 8: 1} <br />\n",
        "<b>Input :</b> test_tuple = (5, 6, 7, 8) <br />\n",
        "<b>Output :</b> {5: 1, 6: 1, 7: 1, 8: 1} <br />\n",
        "</li>\n",
        "  <li>Given a set, write a Python program to generate\n",
        "all possible subset of size n of given set within a\n",
        "list. <br />\n",
        "<b>Examples: </b> <br />\n",
        "<b>Input :</b> {1, 2, 3}, n = 2 <br />\n",
        "<b>Output :</b> [{1, 2}, {1, 3}, {2, 3}] <br />\n",
        "<b>Input :</b> {1, 2, 3, 4}, n = 3 <br />\n",
        "<b>Output :</b> [{1, 2, 3}, {1, 2, 4}, {1, 3, 4}, {2, 3,\n",
        "4}]\n",
        "</li>\n",
        "</ol>\n",
        "<hr><hr>\n",
        "</body>\n",
        "</html>"
      ]
    },
    {
      "cell_type": "markdown",
      "metadata": {
        "id": "Bh0LYhCBOXvZ"
      },
      "source": [
        "## **Programs**\n"
      ]
    },
    {
      "cell_type": "markdown",
      "metadata": {
        "id": "10HOVBVD7qKw"
      },
      "source": [
        "<html>\n",
        "<body>\n",
        "<h4> <b>Program (i)</b> </h4>\n",
        "</body>\n",
        "</html>"
      ]
    },
    {
      "cell_type": "code",
      "metadata": {
        "colab": {
          "base_uri": "https://localhost:8080/"
        },
        "id": "hGU8iPTKYN_f",
        "outputId": "8e0e31cf-7e88-45fd-a3b2-1aad162b1d59"
      },
      "source": [
        "test_list = [(54, 2), (34, 55), (222, 23), (12, 45), (78, )]\n",
        "K = 2\n",
        "res = [i for i in test_list if all(len(str(ele)) == K for ele in i)]\n",
        "print(res)"
      ],
      "execution_count": null,
      "outputs": [
        {
          "output_type": "stream",
          "text": [
            "[(34, 55), (12, 45), (78,)]\n"
          ],
          "name": "stdout"
        }
      ]
    },
    {
      "cell_type": "markdown",
      "metadata": {
        "id": "_ciXCfeT7rNB"
      },
      "source": [
        "<html>\n",
        "<body>\n",
        "<h4> <b>Program (ii)</b> </h4>\n",
        "</body>\n",
        "</html>"
      ]
    },
    {
      "cell_type": "code",
      "metadata": {
        "colab": {
          "base_uri": "https://localhost:8080/"
        },
        "id": "RBqCUZUrZ1p3",
        "outputId": "27455a87-79eb-405d-dac6-95c9c59a5e04"
      },
      "source": [
        "def flatten(test_tuple):\n",
        "    for tup in test_tuple:\n",
        "        if isinstance(tup, tuple):\n",
        "            yield from flatten(tup)\n",
        "        else:\n",
        "            yield tup\n",
        "\n",
        "test_tuple = (5, (6, (7, 8, 6)))\n",
        "res = {}\n",
        "for ele in flatten(test_tuple):\n",
        "    if ele in res:\n",
        "      res[ele] += 1\n",
        "    else:\n",
        "      res[ele] = 1\n",
        "print(res)"
      ],
      "execution_count": null,
      "outputs": [
        {
          "output_type": "stream",
          "text": [
            "{5: 1, 6: 2, 7: 1, 8: 1}\n"
          ],
          "name": "stdout"
        }
      ]
    },
    {
      "cell_type": "markdown",
      "metadata": {
        "id": "qURjPHh87sw5"
      },
      "source": [
        "<html>\n",
        "<body>\n",
        "<h4> <b>Program (iii)</b> </h4>\n",
        "</body>\n",
        "</html>"
      ]
    },
    {
      "cell_type": "code",
      "metadata": {
        "colab": {
          "base_uri": "https://localhost:8080/"
        },
        "id": "bNQUUIJbe-e3",
        "outputId": "a7ef7d21-a5fa-4f4c-d8ad-43b9dd832d7a"
      },
      "source": [
        "import itertools\n",
        "s = {1, 2, 3}\n",
        "n = 2\n",
        "print(list(itertools.combinations(s,n)))"
      ],
      "execution_count": null,
      "outputs": [
        {
          "output_type": "stream",
          "text": [
            "[(1, 2), (1, 3), (2, 3)]\n"
          ],
          "name": "stdout"
        }
      ]
    }
  ]
}