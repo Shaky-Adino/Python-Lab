{
  "nbformat": 4,
  "nbformat_minor": 0,
  "metadata": {
    "colab": {
      "name": "Control Structures.ipynb",
      "provenance": [],
      "collapsed_sections": []
    },
    "kernelspec": {
      "name": "python3",
      "display_name": "Python 3"
    },
    "language_info": {
      "name": "python"
    }
  },
  "cells": [
    {
      "cell_type": "markdown",
      "metadata": {
        "id": "aySiaGb5K_IP"
      },
      "source": [
        "<html>\n",
        "<body>\n",
        "\n",
        "<h2>Topic: Control Structures</h2>\n",
        "<hr><hr>\n",
        "<h3>USN: 1MS19CS063 </h3>\n",
        "<h3>NAME: M Shashanka</h3>\n",
        "<hr><hr>\n",
        "</body>\n",
        "</html>\n"
      ]
    },
    {
      "cell_type": "markdown",
      "metadata": {
        "id": "udI7eoIVNwyi"
      },
      "source": [
        "<html>\n",
        "<body>\n",
        "\n",
        "<h1><b>Questions</b></h1>\n",
        "\n",
        "<ol type=\"i\">\n",
        "  <li>Write a Python program in which a student enters\n",
        "the number of college credits earned. If the number\n",
        "of credits is greater than 90, 'Senior Status' is\n",
        "displayed;\n",
        "if greater than 60, 'Junior Status' is displayed;\n",
        "if greater than 30, 'Sophomore Status' is displayed;\n",
        "else, 'Freshman Status' is displayed. <br />\n",
        "</li>\n",
        "  <li>Write a program containing a pair of nested while\n",
        "loops that displays the integer values 1–100, ten\n",
        "numbers per row, with the columns aligned as\n",
        "shown below<br />\n",
        "&nbsp1 &nbsp &nbsp 2 &nbsp &nbsp 3 &nbsp &nbsp 4 &nbsp &nbsp 5 &nbsp &nbsp 6 &nbsp &nbsp 7 &nbsp &nbsp 8 &nbsp &nbsp 9 &nbsp&nbsp10<br />\n",
        "11 &nbsp12 &nbsp 13 &nbsp14 &nbsp 15 &nbsp 16 &nbsp 17 &nbsp18 &nbsp 19 &nbsp 20<br/>\n",
        ".<br/>\n",
        ".<br/>\n",
        "91 &nbsp92 &nbsp 93 &nbsp94 &nbsp 95 &nbsp 96 &nbsp 97 &nbsp98 &nbsp 99 &nbsp 100\n",
        "</li>\n",
        "\n",
        "  <li>You go on a wonderful holiday (perhaps to jail, if\n",
        "you don’t like happy exercises) leaving on day\n",
        "number 3 (a Wednesday). You return home after\n",
        "137 sleeps. Write a general version of the program\n",
        "which asks for the starting day number, and the\n",
        "length of your stay, and it will tell you the name of\n",
        "day of the week you will return on.\n",
        "</li>\n",
        "</ol>\n",
        "<hr><hr>\n",
        "</body>\n",
        "</html>"
      ]
    },
    {
      "cell_type": "markdown",
      "metadata": {
        "id": "Bh0LYhCBOXvZ"
      },
      "source": [
        "## **Programs**\n"
      ]
    },
    {
      "cell_type": "markdown",
      "metadata": {
        "id": "_LNbGFn9tsCo"
      },
      "source": [
        "<html>\n",
        "<body>\n",
        "<h4> <b>Program (i)</b> </h4>\n",
        "</body>\n",
        "</html>"
      ]
    },
    {
      "cell_type": "code",
      "metadata": {
        "id": "Y17gHoDnOaCg",
        "colab": {
          "base_uri": "https://localhost:8080/"
        },
        "outputId": "1c57a728-7bd3-4816-def5-59621f994e25"
      },
      "source": [
        "x = int(input('Enter the number of college credits earned : '))\n",
        "if x > 90:\n",
        "  print('Senior Status')\n",
        "elif x > 60:\n",
        "  print('Junior Status')\n",
        "elif x > 30:\n",
        "  print('Sophomore Status')\n",
        "else:\n",
        "  print('Freshman Status')"
      ],
      "execution_count": null,
      "outputs": [
        {
          "output_type": "stream",
          "text": [
            "Enter the number of college credits earned : 85\n",
            "Junior Status\n"
          ],
          "name": "stdout"
        }
      ]
    },
    {
      "cell_type": "markdown",
      "metadata": {
        "id": "-2yNvQucuTTE"
      },
      "source": [
        "<html>\n",
        "<body>\n",
        "<h4> <b>Program (ii)</b> </h4>\n",
        "</body>\n",
        "</html>"
      ]
    },
    {
      "cell_type": "code",
      "metadata": {
        "colab": {
          "base_uri": "https://localhost:8080/"
        },
        "id": "YW0NLuToktM1",
        "outputId": "a41dc6ad-68e8-4d94-876f-28af0749eacf"
      },
      "source": [
        "val = 1\n",
        "i = 0\n",
        "while(i < 10):\n",
        "  j = 0\n",
        "  while(j < 10):\n",
        "    print('{:>3}'.format(val),end=' ')\n",
        "    j = j + 1\n",
        "    val = val + 1\n",
        "  print()\n",
        "  i = i + 1"
      ],
      "execution_count": null,
      "outputs": [
        {
          "output_type": "stream",
          "text": [
            "  1   2   3   4   5   6   7   8   9  10 \n",
            " 11  12  13  14  15  16  17  18  19  20 \n",
            " 21  22  23  24  25  26  27  28  29  30 \n",
            " 31  32  33  34  35  36  37  38  39  40 \n",
            " 41  42  43  44  45  46  47  48  49  50 \n",
            " 51  52  53  54  55  56  57  58  59  60 \n",
            " 61  62  63  64  65  66  67  68  69  70 \n",
            " 71  72  73  74  75  76  77  78  79  80 \n",
            " 81  82  83  84  85  86  87  88  89  90 \n",
            " 91  92  93  94  95  96  97  98  99 100 \n"
          ],
          "name": "stdout"
        }
      ]
    },
    {
      "cell_type": "markdown",
      "metadata": {
        "id": "1K99PBV9ul4d"
      },
      "source": [
        "<html>\n",
        "<body>\n",
        "<h4> <b>Program (iii)</b> </h4>\n",
        "</body>\n",
        "</html>"
      ]
    },
    {
      "cell_type": "code",
      "metadata": {
        "colab": {
          "base_uri": "https://localhost:8080/",
          "height": 0
        },
        "id": "PEfVGrMyunqu",
        "outputId": "5c83bbfc-dba9-4ae9-9ff0-e81dac3cb4b0"
      },
      "source": [
        "days = ['Sunday','Monday','Tuesday','Wednesday','Thursday','Friday','Saturday']\n",
        "a = int(input('Enter the starting day number : '))\n",
        "b = int(input('Enter the length of your stay : '))\n",
        "print('You will return on:',days[(a + b) % 7])"
      ],
      "execution_count": 2,
      "outputs": [
        {
          "output_type": "stream",
          "text": [
            "Enter the starting day number : 3\n",
            "Enter the length of your stay : 137\n",
            "You will return on: Sunday\n"
          ],
          "name": "stdout"
        }
      ]
    }
  ]
}