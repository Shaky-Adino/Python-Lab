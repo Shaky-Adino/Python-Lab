{
  "nbformat": 4,
  "nbformat_minor": 0,
  "metadata": {
    "colab": {
      "name": "Object Oriented Concepts.ipynb",
      "provenance": [],
      "collapsed_sections": []
    },
    "kernelspec": {
      "name": "python3",
      "display_name": "Python 3"
    },
    "language_info": {
      "name": "python"
    }
  },
  "cells": [
    {
      "cell_type": "markdown",
      "metadata": {
        "id": "aySiaGb5K_IP"
      },
      "source": [
        "<html>\n",
        "<body>\n",
        "\n",
        "<h2>Topic: Object Oriented Concepts</h2>\n",
        "<hr><hr>\n",
        "<h3>USN: 1MS19CS063 </h3>\n",
        "<h3>NAME: M Shashanka</h3>\n",
        "<hr><hr>\n",
        "</body>\n",
        "</html>\n"
      ]
    },
    {
      "cell_type": "markdown",
      "metadata": {
        "id": "udI7eoIVNwyi"
      },
      "source": [
        "<html>\n",
        "<body>\n",
        "\n",
        "<h1><b>Questions</b></h1>\n",
        "\n",
        "<ol type=\"i\">\n",
        "  <li>Write a python class to represent city which\n",
        "contains a list of places to see. Provide methods to\n",
        "create the object with just the city name or with city\n",
        "name and places (stored as list) Provide methods to\n",
        "add a place of visit, to remove place of visit, to\n",
        "display all places of visit.\n",
        "</li>\n",
        "  <li>Write a python program to simulate saving account\n",
        "processing in a bank using constructors. Create\n",
        "Deposit and Withdraw with other member\n",
        "functions and Check for Validation while\n",
        "withdrawing the amount and depositing the amount\n",
        "by defining appropriate user defined exceptions.\n",
        "</li>\n",
        "</ol>\n",
        "<hr><hr>\n",
        "</body>\n",
        "</html>"
      ]
    },
    {
      "cell_type": "markdown",
      "metadata": {
        "id": "Bh0LYhCBOXvZ"
      },
      "source": [
        "## **Programs**\n"
      ]
    },
    {
      "cell_type": "markdown",
      "metadata": {
        "id": "8qKo-31l8PhQ"
      },
      "source": [
        "<html>\n",
        "<body>\n",
        "<h4> <b>Program (i)</b> </h4>\n",
        "</body>\n",
        "</html>"
      ]
    },
    {
      "cell_type": "code",
      "metadata": {
        "colab": {
          "base_uri": "https://localhost:8080/",
          "height": 68
        },
        "id": "C9JuwBxXN2p7",
        "outputId": "44eb78e8-ed9a-4dde-9aef-d85aefdef222"
      },
      "source": [
        "class City:\n",
        "  def __init__(self,name,places=[]):\n",
        "    self.name = name\n",
        "    self.places = places\n",
        "  def add(self,place):\n",
        "    if place not in self.places:\n",
        "      self.places.append(place)\n",
        "  def remove(self,place):\n",
        "    if place in self.places:\n",
        "      self.places.remove(place)\n",
        "  def display(self):\n",
        "    print(', '.join(self.places))\n",
        "\n",
        "blr = City('Bangalore')\n",
        "blr.add('place-1')\n",
        "blr.add('place-2')\n",
        "blr.display()\n",
        "\n",
        "\n",
        "\n",
        "goa = City('Goa',['place-3','place-4','place-5'])\n",
        "goa.display()\n",
        "goa.remove('place-4')\n",
        "goa.display()"
      ],
      "execution_count": 19,
      "outputs": [
        {
          "output_type": "display_data",
          "data": {
            "application/javascript": [
              "google.colab.output.setIframeHeight(0, true, {maxHeight: 5000})"
            ],
            "text/plain": [
              "<IPython.core.display.Javascript object>"
            ]
          },
          "metadata": {
            "tags": []
          }
        },
        {
          "output_type": "display_data",
          "data": {
            "application/javascript": [
              "google.colab.output.setIframeHeight(0, true, {maxHeight: 7000})"
            ],
            "text/plain": [
              "<IPython.core.display.Javascript object>"
            ]
          },
          "metadata": {
            "tags": []
          }
        },
        {
          "output_type": "display_data",
          "data": {
            "application/javascript": [
              "google.colab.output.setIframeHeight(0, true, {maxHeight: 15000})"
            ],
            "text/plain": [
              "<IPython.core.display.Javascript object>"
            ]
          },
          "metadata": {
            "tags": []
          }
        },
        {
          "output_type": "stream",
          "text": [
            "place-1, place-2\n",
            "place-3, place-4, place-5\n",
            "place-3, place-5\n"
          ],
          "name": "stdout"
        }
      ]
    },
    {
      "cell_type": "markdown",
      "metadata": {
        "id": "7mvOi6vMBITv"
      },
      "source": [
        "<html>\n",
        "<body>\n",
        "<h4> <b>Program (ii)</b> </h4>\n",
        "</body>\n",
        "</html>"
      ]
    },
    {
      "cell_type": "code",
      "metadata": {
        "colab": {
          "base_uri": "https://localhost:8080/",
          "height": 153
        },
        "id": "OE6QjtWdRTr5",
        "outputId": "36676b5d-300d-4043-a0a4-ca4be88d9930"
      },
      "source": [
        "class MyError(Exception):\n",
        "  def __init__(self, value):\n",
        "      self.value = value\n",
        "  def __str__(self):\n",
        "      return(repr(self.value))\n",
        "\n",
        "class Bank_Account:\n",
        "  def __init__(self):\n",
        "    self.balance = 0\n",
        "    print('New account created')\n",
        "  def deposit(self):\n",
        "    amount = float(input('Enter the amount to be deposited : '))\n",
        "    self.balance += amount\n",
        "    print('Successful Transaction')\n",
        "  def withdraw(self):\n",
        "    amount = float(input('Enter the amount to be withdrawn : '))\n",
        "    if self.balance >= amount:\n",
        "      self.balance -= amount\n",
        "      print('Successful Transaction')\n",
        "    else:\n",
        "      raise(MyError('Insufficient balance'))\n",
        "  def display(self):\n",
        "        print(\"Available Balance =\",self.balance)\n",
        "\n",
        "customer = Bank_Account()\n",
        "\n",
        "customer.deposit()\n",
        "\n",
        "try:\n",
        "  customer.withdraw()\n",
        "except MyError as error:\n",
        "  print(error.value)\n",
        "\n",
        "customer.display()\n",
        "\n",
        "try:\n",
        "  customer.withdraw()\n",
        "except MyError as error:\n",
        "  print(error.value)"
      ],
      "execution_count": 20,
      "outputs": [
        {
          "output_type": "display_data",
          "data": {
            "application/javascript": [
              "google.colab.output.setIframeHeight(0, true, {maxHeight: 5000})"
            ],
            "text/plain": [
              "<IPython.core.display.Javascript object>"
            ]
          },
          "metadata": {
            "tags": []
          }
        },
        {
          "output_type": "display_data",
          "data": {
            "application/javascript": [
              "google.colab.output.setIframeHeight(0, true, {maxHeight: 7000})"
            ],
            "text/plain": [
              "<IPython.core.display.Javascript object>"
            ]
          },
          "metadata": {
            "tags": []
          }
        },
        {
          "output_type": "display_data",
          "data": {
            "application/javascript": [
              "google.colab.output.setIframeHeight(0, true, {maxHeight: 15000})"
            ],
            "text/plain": [
              "<IPython.core.display.Javascript object>"
            ]
          },
          "metadata": {
            "tags": []
          }
        },
        {
          "output_type": "stream",
          "text": [
            "New account created\n",
            "Enter the amount to be deposited : 15000\n",
            "Successful Transaction\n",
            "Enter the amount to be withdrawn : 10000\n",
            "Successful Transaction\n",
            "Available Balance = 5000.0\n",
            "Enter the amount to be withdrawn : 6000\n",
            "Insufficient balance\n"
          ],
          "name": "stdout"
        }
      ]
    }
  ]
}