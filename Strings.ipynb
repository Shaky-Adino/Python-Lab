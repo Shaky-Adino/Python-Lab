{
  "nbformat": 4,
  "nbformat_minor": 0,
  "metadata": {
    "colab": {
      "name": "Strings.ipynb",
      "provenance": [],
      "collapsed_sections": []
    },
    "kernelspec": {
      "name": "python3",
      "display_name": "Python 3"
    },
    "language_info": {
      "name": "python"
    }
  },
  "cells": [
    {
      "cell_type": "markdown",
      "metadata": {
        "id": "aySiaGb5K_IP"
      },
      "source": [
        "<html>\n",
        "<body>\n",
        "\n",
        "<h2>Topic: Strings</h2>\n",
        "<hr><hr>\n",
        "<h3>USN: 1MS19CS063 </h3>\n",
        "<h3>NAME: M Shashanka</h3>\n",
        "<hr><hr>\n",
        "</body>\n",
        "</html>\n"
      ]
    },
    {
      "cell_type": "markdown",
      "metadata": {
        "id": "udI7eoIVNwyi"
      },
      "source": [
        "<html>\n",
        "<body>\n",
        "\n",
        "<h1><b>Questions</b></h1>\n",
        "\n",
        "<ol type=\"i\">\n",
        "  <li>A string with parentheses is well bracketed if all\n",
        "parentheses are matched: every opening bracket\n",
        "has a matching closing bracket and vice versa.\n",
        "Write a Python function wellbracketed(s) that takes\n",
        "a string s containing parentheses and returns True\n",
        "if s is well bracketed and False otherwise. Here are\n",
        "some examples to show how your function should\n",
        "work. <br />\n",
        ">>> wellbracketed(\"22)\") <br />\n",
        "False <br />\n",
        ">>> wellbracketed(\"(a+b)(a-b)\") <br />\n",
        "True <br />\n",
        ">>> wellbracketed(\"(a(b+c)-d)((e+f)\") <br />\n",
        "False\n",
        "</li>\n",
        "  <li>Write a python program that takes a string and\n",
        "prints the frequency of the characters contained in\n",
        "it. For Example: <br />\n",
        "<b>Input:</b> Hello <br />\n",
        "<b>Output:</b> H:1 e:1 l:2 o:1\n",
        "</li>\n",
        "  <li>Write a program that takes your full name as input\n",
        "and displays the abbreviations of the first and\n",
        "middle names except the last name which is\n",
        "displayed as it is. For example, if you r name is\n",
        "Robert Brett Roser, then the output should be\n",
        "R.B.Roser\n",
        "</li>\n",
        "</ol>\n",
        "<hr><hr>\n",
        "</body>\n",
        "</html>"
      ]
    },
    {
      "cell_type": "markdown",
      "metadata": {
        "id": "Bh0LYhCBOXvZ"
      },
      "source": [
        "## **Programs**\n"
      ]
    },
    {
      "cell_type": "markdown",
      "metadata": {
        "id": "OgW0sqO06wYQ"
      },
      "source": [
        "<html>\n",
        "<body>\n",
        "<h4> <b>Program (i)</b> </h4>\n",
        "</body>\n",
        "</html>"
      ]
    },
    {
      "cell_type": "code",
      "metadata": {
        "colab": {
          "base_uri": "https://localhost:8080/"
        },
        "id": "dIF_57AHsgO0",
        "outputId": "44075122-5677-4456-a2dc-e9db8eade7e9"
      },
      "source": [
        "def wellbracketed(s):\n",
        "  count = 0;\n",
        "  for i in s:\n",
        "        if i == \"(\":\n",
        "            count += 1\n",
        "        elif i == \")\":\n",
        "            count -= 1\n",
        "        if count < 0:\n",
        "            return False\n",
        "            \n",
        "  return count == 0\n",
        "\n",
        "print(wellbracketed(\"22)\"))\n",
        "print(wellbracketed(\"(a+b)(a-b)\"))\n",
        "print(wellbracketed(\"(a(b+c)-d)((e+f)\"))"
      ],
      "execution_count": null,
      "outputs": [
        {
          "output_type": "stream",
          "text": [
            "False\n",
            "True\n",
            "False\n"
          ],
          "name": "stdout"
        }
      ]
    },
    {
      "cell_type": "markdown",
      "metadata": {
        "id": "ui5d_9-26xTB"
      },
      "source": [
        "<html>\n",
        "<body>\n",
        "<h4> <b>Program (ii)</b> </h4>\n",
        "</body>\n",
        "</html>"
      ]
    },
    {
      "cell_type": "code",
      "metadata": {
        "colab": {
          "base_uri": "https://localhost:8080/"
        },
        "id": "DqsfW5E3tLnE",
        "outputId": "53b4d873-c7d7-489f-944c-8dbcb1248207"
      },
      "source": [
        "s = input('Enter a string : ')\n",
        "freq = {}\n",
        "for i in s:\n",
        "  if i in freq :\n",
        "    freq[i] += 1\n",
        "  else:\n",
        "    freq[i] = 1\n",
        "print(freq)"
      ],
      "execution_count": null,
      "outputs": [
        {
          "output_type": "stream",
          "text": [
            "Enter a string : Hello\n",
            "{'H': 1, 'e': 1, 'l': 2, 'o': 1}\n"
          ],
          "name": "stdout"
        }
      ]
    },
    {
      "cell_type": "markdown",
      "metadata": {
        "id": "HUI2PCgY6ywx"
      },
      "source": [
        "<html>\n",
        "<body>\n",
        "<h4> <b>Program (iii)</b> </h4>\n",
        "</body>\n",
        "</html>"
      ]
    },
    {
      "cell_type": "code",
      "metadata": {
        "colab": {
          "base_uri": "https://localhost:8080/"
        },
        "id": "RQkA7kH_uKVr",
        "outputId": "2ce0a86b-e355-498d-b23f-611da28c12a9"
      },
      "source": [
        "fname,mname,lname = input('Enter your full name : ').split()\n",
        "print(fname[0] + '.' + mname[0] + '.' + lname)"
      ],
      "execution_count": null,
      "outputs": [
        {
          "output_type": "stream",
          "text": [
            "Enter your full name : Robert Brett Roser\n",
            "R.B.Roser\n"
          ],
          "name": "stdout"
        }
      ]
    }
  ]
}