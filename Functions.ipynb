{
  "nbformat": 4,
  "nbformat_minor": 0,
  "metadata": {
    "colab": {
      "name": "Functions.ipynb",
      "provenance": [],
      "collapsed_sections": []
    },
    "kernelspec": {
      "name": "python3",
      "display_name": "Python 3"
    },
    "language_info": {
      "name": "python"
    }
  },
  "cells": [
    {
      "cell_type": "markdown",
      "metadata": {
        "id": "aySiaGb5K_IP"
      },
      "source": [
        "<html>\n",
        "<body>\n",
        "\n",
        "<h2>Topic: Functions</h2>\n",
        "<hr><hr>\n",
        "<h3>USN: 1MS19CS063 </h3>\n",
        "<h3>NAME: M Shashanka</h3>\n",
        "<hr><hr>\n",
        "</body>\n",
        "</html>\n"
      ]
    },
    {
      "cell_type": "markdown",
      "metadata": {
        "id": "udI7eoIVNwyi"
      },
      "source": [
        "<html>\n",
        "<body>\n",
        "\n",
        "<h1><b>Questions</b></h1>\n",
        "\n",
        "<ol type=\"i\">\n",
        "  <li>Write a python function geometric() that takes a list\n",
        "of integers as input and returns True if the integers\n",
        "in the list form a geometric sequence. A sequence\n",
        "a0, a1, a2, a3, a4, . . . , an is a geometric sequence\n",
        "if the ratios a1/a0, a2/a1, a3/a2, a4/a3, . . . , an/an-1\n",
        "are all equal.<br />\n",
        ">>> geometric([2, 4, 8, 16, 32, 64, 128, 256]) <br />\n",
        "True <br />\n",
        ">>> geometric([2, 4, 6, 8]) <br />\n",
        "False <br />\n",
        "</li>\n",
        "  <li>Write a python function names() that takes no input\n",
        "and repeatedly asks the user to enter the first name\n",
        "of a student in a class. When the user enters the\n",
        "empty string, the function should print for every\n",
        "name the number of students with that name.<br />\n",
        ">>> names()<br />\n",
        "Enter next name: Valerie <br />\n",
        "Enter next name: Bob <br />\n",
        "Enter next name: Valerie <br />\n",
        "Enter next name: Amelia <br />\n",
        "Enter next name: Bob <br />\n",
        "Enter next name: <br />\n",
        "There is 1 student named Amelia <br />\n",
        "There are 2 students named Bob <br />\n",
        "There are 2 students named Valerie <br />\n",
        "</li>\n",
        "  <li>Write a python function subsetSum() that takes as\n",
        "input a list of positive numbers and a positive\n",
        "number target. Your function should return True if\n",
        "there are three numbers in the list that add up to\n",
        "target. For example, if the input list is [5, 4, 10, 20,\n",
        "15, 19] and target is 38, then True should be\n",
        "returned since 4+15+19 = 38. However, if the input\n",
        "list is the same but the target value is 10, then the\n",
        "returned value should be False because 10 is not the\n",
        "sum of any three numbers in the given list.\n",
        "</li>\n",
        "<li>\n",
        "Write the function alternatingSum(L) that takes a\n",
        "list of numbers and returns the alternating sum\n",
        "(where the sign alternates from positive to negative\n",
        "or vice versa). For example,\n",
        "alternatingSum([5,3,8,4]) returns 6 (that is, 5-3+8-4). If the list is empty, return 0.\n",
        "</li>\n",
        "</ol>\n",
        "<hr><hr>\n",
        "</body>\n",
        "</html>"
      ]
    },
    {
      "cell_type": "markdown",
      "metadata": {
        "id": "Bh0LYhCBOXvZ"
      },
      "source": [
        "## **Programs**\n"
      ]
    },
    {
      "cell_type": "markdown",
      "metadata": {
        "id": "p8oGFRy63njK"
      },
      "source": [
        "<html>\n",
        "<body>\n",
        "<h4> <b>Program (i)</b> </h4>\n",
        "</body>\n",
        "</html>"
      ]
    },
    {
      "cell_type": "code",
      "metadata": {
        "id": "NoiR72jjesSf",
        "colab": {
          "base_uri": "https://localhost:8080/"
        },
        "outputId": "bfa17a50-75be-40f3-ff55-74d7e1a02490"
      },
      "source": [
        "def geometric(a):\n",
        "  for i in range(len(a) - 2):\n",
        "    if (a[i] * a[i + 2]) != (a[i + 1] ** 2):\n",
        "      return False\n",
        "  return True\n",
        "\n",
        "print(geometric([2, 4, 8, 16, 32, 64, 128, 256]))\n",
        "print(geometric([2, 4, 6, 8]))"
      ],
      "execution_count": null,
      "outputs": [
        {
          "output_type": "stream",
          "text": [
            "True\n",
            "False\n"
          ],
          "name": "stdout"
        }
      ]
    },
    {
      "cell_type": "markdown",
      "metadata": {
        "id": "1tbMF8po3ory"
      },
      "source": [
        "<html>\n",
        "<body>\n",
        "<h4> <b>Program (ii)</b> </h4>\n",
        "</body>\n",
        "</html>"
      ]
    },
    {
      "cell_type": "code",
      "metadata": {
        "colab": {
          "base_uri": "https://localhost:8080/"
        },
        "id": "WG7CW9qWSUPG",
        "outputId": "8b4e615f-90a0-4a8e-f846-2efb1138120c"
      },
      "source": [
        "def names():\n",
        "  dict = {}\n",
        "  while True:\n",
        "    name = input('Enter next name : ')\n",
        "    if name == '':\n",
        "      break;\n",
        "    if name in dict:\n",
        "      dict[name] += 1\n",
        "    else:\n",
        "      dict[name] = 1\n",
        "  for i in dict:\n",
        "    if dict[i] > 1:\n",
        "      print(\"There are\", dict[i], \"students named\", i)\n",
        "    else:\n",
        "      print(\"There is\", dict[i], \"student named\", i)\n",
        "      \n",
        "names()"
      ],
      "execution_count": null,
      "outputs": [
        {
          "output_type": "stream",
          "text": [
            "Enter next name : Valerie\n",
            "Enter next name : Bob\n",
            "Enter next name : Valerie\n",
            "Enter next name : Amelia\n",
            "Enter next name : Bob\n",
            "Enter next name : \n",
            "There are 2 students named Valerie\n",
            "There are 2 students named Bob\n",
            "There is 1 student named Amelia\n"
          ],
          "name": "stdout"
        }
      ]
    },
    {
      "cell_type": "markdown",
      "metadata": {
        "id": "ga5_crQF3rBy"
      },
      "source": [
        "<html>\n",
        "<body>\n",
        "<h4> <b>Program (iii)</b> </h4>\n",
        "</body>\n",
        "</html>"
      ]
    },
    {
      "cell_type": "code",
      "metadata": {
        "colab": {
          "base_uri": "https://localhost:8080/"
        },
        "id": "Wznz40TjXQ91",
        "outputId": "f714ef96-5e6b-40d3-fc95-80c037fc9616"
      },
      "source": [
        "\n",
        "def subsetSum(a,target):\n",
        "  if len(a) < 3:\n",
        "    return False\n",
        "  l = len(a);\n",
        "  for i in range(0,l):\n",
        "    for j in range(i+1,l):\n",
        "      for k in range(j+1,l):\n",
        "        if (a[i] + a[j] + a[k]) == target:\n",
        "          return True\n",
        "  return False\n",
        "\n",
        "print(subsetSum([5, 4, 10, 20, 15, 19], 38))\n",
        "print(subsetSum([5, 4, 10, 20, 15, 19], 10))"
      ],
      "execution_count": null,
      "outputs": [
        {
          "output_type": "stream",
          "text": [
            "True\n",
            "False\n"
          ],
          "name": "stdout"
        }
      ]
    },
    {
      "cell_type": "markdown",
      "metadata": {
        "id": "50xbJdvn3s3q"
      },
      "source": [
        "<html>\n",
        "<body>\n",
        "<h4> <b>Program (iv)</b> </h4>\n",
        "</body>\n",
        "</html>"
      ]
    },
    {
      "cell_type": "code",
      "metadata": {
        "colab": {
          "base_uri": "https://localhost:8080/"
        },
        "id": "he7yWczjZfXt",
        "outputId": "6ee2fec7-cacb-47c5-ff20-9c1199c32a07"
      },
      "source": [
        "def alternatingSum(a):\n",
        "  sum = 0\n",
        "  for i in range(len(a)):\n",
        "    sum += -a[i] if (i&1) else a[i]\n",
        "  return sum\n",
        "  \n",
        "print(alternatingSum([5, 3, 8, 4]))"
      ],
      "execution_count": null,
      "outputs": [
        {
          "output_type": "stream",
          "text": [
            "6\n"
          ],
          "name": "stdout"
        }
      ]
    }
  ]
}