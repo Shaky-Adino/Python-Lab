{
  "nbformat": 4,
  "nbformat_minor": 0,
  "metadata": {
    "colab": {
      "name": "Lists.ipynb",
      "provenance": [],
      "collapsed_sections": []
    },
    "kernelspec": {
      "name": "python3",
      "display_name": "Python 3"
    },
    "language_info": {
      "name": "python"
    }
  },
  "cells": [
    {
      "cell_type": "markdown",
      "metadata": {
        "id": "aySiaGb5K_IP"
      },
      "source": [
        "<html>\n",
        "<body>\n",
        "\n",
        "<h2>Topic: Lists</h2>\n",
        "<hr><hr>\n",
        "<h3>USN: 1MS19CS063 </h3>\n",
        "<h3>NAME: M Shashanka</h3>\n",
        "<hr><hr>\n",
        "</body>\n",
        "</html>\n"
      ]
    },
    {
      "cell_type": "markdown",
      "metadata": {
        "id": "udI7eoIVNwyi"
      },
      "source": [
        "<html>\n",
        "<body>\n",
        "\n",
        "<h1><b>Questions</b></h1>\n",
        "\n",
        "<ol type=\"i\">\n",
        "  <li>Write a python program to demonstrate, a list\n",
        "rotation consists of taking the last element and\n",
        "moving it to the front. For instance, if we rotate the\n",
        "list [1,2,3,4,5], we get [5,1,2,3,4]. If we rotate it\n",
        "again, we get [4,5,1,2,3].Write a Python function\n",
        "rotatelist(ls,k) that takes a list ls and a positive\n",
        "integer k and returns the list ls after k rotations. If\n",
        "k is not positive, your function should return ls\n",
        "unchanged. Note that your function should not\n",
        "change ls itself, and should return the rotated\n",
        "list.Here are some examples to show how your\n",
        "function should work. <br />\n",
        ">>> rotatelist([1,2,3,4,5],1) #output is [5, 1, 2, 3, 4] <br />\n",
        ">>> rotatelist([1,2,3,4,5],3) #output is [3, 4, 5, 1, 2] <br />\n",
        ">>> rotatelist([1,2,3,4,5],12) #output is [4, 5, 1, 2, 3] <br />\n",
        "</li>\n",
        "  <li>Write a python program to create list1 and list2, be\n",
        "two lists of integers.We say that list1 is a sublist of\n",
        "list2 if the elements in list1 appear in list2 in the\n",
        "same order as they appear in list1, but not\n",
        "necessarily consecutively. <br />\n",
        ">>> sublist([15, 1, 100], [20, 15, 30, 50, 1, 100]) <br />\n",
        "True <br />\n",
        ">>> sublist([15, 50, 20], [20, 15, 30, 50, 1, 100]) <br />\n",
        "False\n",
        "</li>\n",
        "  <li>Write a Python program that prompts the user to\n",
        "enter a list of words and stores in a list only those\n",
        "words whose first letter occurs again within the\n",
        "word (for example, 'Baboon'). The program should\n",
        "display the resulting list.\n",
        "</li>\n",
        "</ol>\n",
        "<hr><hr>\n",
        "</body>\n",
        "</html>"
      ]
    },
    {
      "cell_type": "markdown",
      "metadata": {
        "id": "Bh0LYhCBOXvZ"
      },
      "source": [
        "## **Programs**\n"
      ]
    },
    {
      "cell_type": "markdown",
      "metadata": {
        "id": "wEQ09qjp5v7x"
      },
      "source": [
        "<html>\n",
        "<body>\n",
        "<h4> <b>Program (i)</b> </h4>\n",
        "</body>\n",
        "</html>"
      ]
    },
    {
      "cell_type": "code",
      "metadata": {
        "colab": {
          "base_uri": "https://localhost:8080/"
        },
        "id": "8c43v5Lufkdl",
        "outputId": "02339313-9056-4e01-bce9-1e5f48a7661b"
      },
      "source": [
        "def rotatelist(ls,k):\n",
        "  if k <= 0 :\n",
        "    return ls\n",
        "  \n",
        "  k %= len(ls)\n",
        "  new_list = (ls[-k : ] + ls[ : -k])\n",
        "  return new_list\n",
        "\n",
        "print(rotatelist([1, 2, 3, 4, 5], 1))\n",
        "print(rotatelist([1, 2, 3, 4, 5], 3))\n",
        "print(rotatelist([1, 2, 3, 4, 5], 12))"
      ],
      "execution_count": null,
      "outputs": [
        {
          "output_type": "stream",
          "text": [
            "[5, 1, 2, 3, 4]\n",
            "[3, 4, 5, 1, 2]\n",
            "[4, 5, 1, 2, 3]\n"
          ],
          "name": "stdout"
        }
      ]
    },
    {
      "cell_type": "markdown",
      "metadata": {
        "id": "1YGSXuL35w7S"
      },
      "source": [
        "<html>\n",
        "<body>\n",
        "<h4> <b>Program (ii)</b> </h4>\n",
        "</body>\n",
        "</html>"
      ]
    },
    {
      "cell_type": "code",
      "metadata": {
        "colab": {
          "base_uri": "https://localhost:8080/"
        },
        "id": "oRMCgSCIjSRW",
        "outputId": "3837d9c8-7051-47d2-f4a6-ec5127a1e59a"
      },
      "source": [
        "def sublist(list1, list2):\n",
        "  j = 0\n",
        "  for i in range(len(list2)):\n",
        "    if list1[j] == list2[i] :\n",
        "      j += 1\n",
        "  return True if j == len(list1) else False\n",
        "\n",
        "print(sublist([15, 1, 100], [20, 15, 30, 50, 1, 100]))\n",
        "print(sublist([15, 50, 20], [20, 15, 30, 50, 1, 100]))"
      ],
      "execution_count": null,
      "outputs": [
        {
          "output_type": "stream",
          "text": [
            "True\n",
            "False\n"
          ],
          "name": "stdout"
        }
      ]
    },
    {
      "cell_type": "markdown",
      "metadata": {
        "id": "7cyV_0245yTh"
      },
      "source": [
        "<html>\n",
        "<body>\n",
        "<h4> <b>Program (iii)</b> </h4>\n",
        "</body>\n",
        "</html>"
      ]
    },
    {
      "cell_type": "code",
      "metadata": {
        "colab": {
          "base_uri": "https://localhost:8080/",
          "height": 0
        },
        "id": "-BEVwv3JlcL8",
        "outputId": "a9d1f318-0e37-417e-cd8e-f62d295e79f3"
      },
      "source": [
        "n = 5\n",
        "print('Enter 5 words :-')\n",
        "print()\n",
        "ls = []\n",
        "for i in range(5):\n",
        "  s = input();\n",
        "  x = s.lower()\n",
        "  if x[0] in x[1:]:\n",
        "    ls.append(s)\n",
        "print()\n",
        "print('Resulting list :-')\n",
        "print(ls)"
      ],
      "execution_count": 8,
      "outputs": [
        {
          "output_type": "stream",
          "text": [
            "Enter 5 words :-\n",
            "\n",
            "Baboon\n",
            "apple\n",
            "Surprise\n",
            "morning\n",
            "Evening\n",
            "\n",
            "Resulting list :-\n",
            "['Baboon', 'Surprise', 'Evening']\n"
          ],
          "name": "stdout"
        }
      ]
    }
  ]
}